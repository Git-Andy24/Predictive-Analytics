{
 "cells": [
  {
   "cell_type": "markdown",
   "metadata": {},
   "source": [
    "### Installing packages"
   ]
  },
  {
   "cell_type": "code",
   "execution_count": 1,
   "metadata": {},
   "outputs": [
    {
     "name": "stdout",
     "output_type": "stream",
     "text": [
      "Requirement already satisfied: pandas in /Users/anerudhshyam/Desktop/Coding/Visual Studio/DataScience/Predictive Analytics/.venv/lib/python3.11/site-packages (2.2.3)\n",
      "Requirement already satisfied: numpy>=1.23.2 in /Users/anerudhshyam/Desktop/Coding/Visual Studio/DataScience/Predictive Analytics/.venv/lib/python3.11/site-packages (from pandas) (2.2.1)\n",
      "Requirement already satisfied: python-dateutil>=2.8.2 in /Users/anerudhshyam/Desktop/Coding/Visual Studio/DataScience/Predictive Analytics/.venv/lib/python3.11/site-packages (from pandas) (2.9.0.post0)\n",
      "Requirement already satisfied: pytz>=2020.1 in /Users/anerudhshyam/Desktop/Coding/Visual Studio/DataScience/Predictive Analytics/.venv/lib/python3.11/site-packages (from pandas) (2024.2)\n",
      "Requirement already satisfied: tzdata>=2022.7 in /Users/anerudhshyam/Desktop/Coding/Visual Studio/DataScience/Predictive Analytics/.venv/lib/python3.11/site-packages (from pandas) (2024.2)\n",
      "Requirement already satisfied: six>=1.5 in /Users/anerudhshyam/Desktop/Coding/Visual Studio/DataScience/Predictive Analytics/.venv/lib/python3.11/site-packages (from python-dateutil>=2.8.2->pandas) (1.17.0)\n",
      "Note: you may need to restart the kernel to use updated packages.\n",
      "Requirement already satisfied: scikit-learn in /Users/anerudhshyam/Desktop/Coding/Visual Studio/DataScience/Predictive Analytics/.venv/lib/python3.11/site-packages (1.6.1)\n",
      "Requirement already satisfied: numpy>=1.19.5 in /Users/anerudhshyam/Desktop/Coding/Visual Studio/DataScience/Predictive Analytics/.venv/lib/python3.11/site-packages (from scikit-learn) (2.2.1)\n",
      "Requirement already satisfied: scipy>=1.6.0 in /Users/anerudhshyam/Desktop/Coding/Visual Studio/DataScience/Predictive Analytics/.venv/lib/python3.11/site-packages (from scikit-learn) (1.15.1)\n",
      "Requirement already satisfied: joblib>=1.2.0 in /Users/anerudhshyam/Desktop/Coding/Visual Studio/DataScience/Predictive Analytics/.venv/lib/python3.11/site-packages (from scikit-learn) (1.4.2)\n",
      "Requirement already satisfied: threadpoolctl>=3.1.0 in /Users/anerudhshyam/Desktop/Coding/Visual Studio/DataScience/Predictive Analytics/.venv/lib/python3.11/site-packages (from scikit-learn) (3.5.0)\n",
      "Note: you may need to restart the kernel to use updated packages.\n"
     ]
    }
   ],
   "source": [
    "%pip install pandas\n",
    "%pip install scikit-learn"
   ]
  },
  {
   "cell_type": "markdown",
   "metadata": {},
   "source": [
    "### Importing packages and loading csv files"
   ]
  },
  {
   "cell_type": "code",
   "execution_count": 15,
   "metadata": {},
   "outputs": [],
   "source": [
    "import pandas as pd\n",
    "import numpy as np\n",
    "from sklearn.preprocessing import StandardScaler, PolynomialFeatures\n",
    "from sklearn.feature_selection import SelectKBest, f_regression\n",
    "from sklearn.metrics import r2_score\n",
    "from sklearn.linear_model import LinearRegression, Ridge, Lasso\n",
    "from sklearn.ensemble import RandomForestRegressor\n",
    "from sklearn.model_selection import GridSearchCV, KFold\n"
   ]
  },
  {
   "cell_type": "code",
   "execution_count": 16,
   "metadata": {},
   "outputs": [
    {
     "data": {
      "text/html": [
       "<div>\n",
       "<style scoped>\n",
       "    .dataframe tbody tr th:only-of-type {\n",
       "        vertical-align: middle;\n",
       "    }\n",
       "\n",
       "    .dataframe tbody tr th {\n",
       "        vertical-align: top;\n",
       "    }\n",
       "\n",
       "    .dataframe thead th {\n",
       "        text-align: right;\n",
       "    }\n",
       "</style>\n",
       "<table border=\"1\" class=\"dataframe\">\n",
       "  <thead>\n",
       "    <tr style=\"text-align: right;\">\n",
       "      <th></th>\n",
       "      <th>target</th>\n",
       "      <th>f1</th>\n",
       "      <th>f2</th>\n",
       "      <th>f3</th>\n",
       "      <th>f4</th>\n",
       "      <th>f5</th>\n",
       "      <th>f6</th>\n",
       "    </tr>\n",
       "  </thead>\n",
       "  <tbody>\n",
       "    <tr>\n",
       "      <th>0</th>\n",
       "      <td>27.4</td>\n",
       "      <td>47.2</td>\n",
       "      <td>40.2</td>\n",
       "      <td>-16.0</td>\n",
       "      <td>13</td>\n",
       "      <td>7.9</td>\n",
       "      <td>31.7</td>\n",
       "    </tr>\n",
       "    <tr>\n",
       "      <th>1</th>\n",
       "      <td>15.6</td>\n",
       "      <td>40.6</td>\n",
       "      <td>21.9</td>\n",
       "      <td>-11.5</td>\n",
       "      <td>20</td>\n",
       "      <td>5.4</td>\n",
       "      <td>16.5</td>\n",
       "    </tr>\n",
       "    <tr>\n",
       "      <th>2</th>\n",
       "      <td>23.6</td>\n",
       "      <td>47.7</td>\n",
       "      <td>27.9</td>\n",
       "      <td>-12.6</td>\n",
       "      <td>46</td>\n",
       "      <td>6.7</td>\n",
       "      <td>22.4</td>\n",
       "    </tr>\n",
       "    <tr>\n",
       "      <th>3</th>\n",
       "      <td>38.9</td>\n",
       "      <td>82.7</td>\n",
       "      <td>95.5</td>\n",
       "      <td>-28.5</td>\n",
       "      <td>26</td>\n",
       "      <td>13.8</td>\n",
       "      <td>55.4</td>\n",
       "    </tr>\n",
       "    <tr>\n",
       "      <th>4</th>\n",
       "      <td>44.5</td>\n",
       "      <td>71.0</td>\n",
       "      <td>141.5</td>\n",
       "      <td>-23.8</td>\n",
       "      <td>85</td>\n",
       "      <td>12.0</td>\n",
       "      <td>80.9</td>\n",
       "    </tr>\n",
       "  </tbody>\n",
       "</table>\n",
       "</div>"
      ],
      "text/plain": [
       "   target    f1     f2    f3  f4    f5    f6\n",
       "0    27.4  47.2   40.2 -16.0  13   7.9  31.7\n",
       "1    15.6  40.6   21.9 -11.5  20   5.4  16.5\n",
       "2    23.6  47.7   27.9 -12.6  46   6.7  22.4\n",
       "3    38.9  82.7   95.5 -28.5  26  13.8  55.4\n",
       "4    44.5  71.0  141.5 -23.8  85  12.0  80.9"
      ]
     },
     "execution_count": 16,
     "metadata": {},
     "output_type": "execute_result"
    }
   ],
   "source": [
    "train_df=pd.read_csv(\"train.csv\")\n",
    "train_df.head()"
   ]
  },
  {
   "cell_type": "code",
   "execution_count": 17,
   "metadata": {},
   "outputs": [
    {
     "name": "stdout",
     "output_type": "stream",
     "text": [
      "<class 'pandas.core.frame.DataFrame'>\n",
      "RangeIndex: 10999 entries, 0 to 10998\n",
      "Data columns (total 7 columns):\n",
      " #   Column  Non-Null Count  Dtype  \n",
      "---  ------  --------------  -----  \n",
      " 0   target  10999 non-null  float64\n",
      " 1   f1      10999 non-null  float64\n",
      " 2   f2      10999 non-null  float64\n",
      " 3   f3      10999 non-null  float64\n",
      " 4   f4      10999 non-null  int64  \n",
      " 5   f5      10999 non-null  float64\n",
      " 6   f6      10999 non-null  float64\n",
      "dtypes: float64(6), int64(1)\n",
      "memory usage: 601.6 KB\n"
     ]
    }
   ],
   "source": [
    "train_df.info()"
   ]
  },
  {
   "cell_type": "code",
   "execution_count": 18,
   "metadata": {},
   "outputs": [
    {
     "data": {
      "text/html": [
       "<div>\n",
       "<style scoped>\n",
       "    .dataframe tbody tr th:only-of-type {\n",
       "        vertical-align: middle;\n",
       "    }\n",
       "\n",
       "    .dataframe tbody tr th {\n",
       "        vertical-align: top;\n",
       "    }\n",
       "\n",
       "    .dataframe thead th {\n",
       "        text-align: right;\n",
       "    }\n",
       "</style>\n",
       "<table border=\"1\" class=\"dataframe\">\n",
       "  <thead>\n",
       "    <tr style=\"text-align: right;\">\n",
       "      <th></th>\n",
       "      <th>id</th>\n",
       "      <th>f1</th>\n",
       "      <th>f2</th>\n",
       "      <th>f3</th>\n",
       "      <th>f4</th>\n",
       "      <th>f5</th>\n",
       "      <th>f6</th>\n",
       "    </tr>\n",
       "  </thead>\n",
       "  <tbody>\n",
       "    <tr>\n",
       "      <th>0</th>\n",
       "      <td>1</td>\n",
       "      <td>129.3</td>\n",
       "      <td>663.7</td>\n",
       "      <td>-75.3</td>\n",
       "      <td>52</td>\n",
       "      <td>29.3</td>\n",
       "      <td>298.0</td>\n",
       "    </tr>\n",
       "    <tr>\n",
       "      <th>1</th>\n",
       "      <td>2</td>\n",
       "      <td>143.1</td>\n",
       "      <td>687.3</td>\n",
       "      <td>-82.6</td>\n",
       "      <td>63</td>\n",
       "      <td>30.7</td>\n",
       "      <td>306.2</td>\n",
       "    </tr>\n",
       "    <tr>\n",
       "      <th>2</th>\n",
       "      <td>3</td>\n",
       "      <td>52.3</td>\n",
       "      <td>32.0</td>\n",
       "      <td>-10.8</td>\n",
       "      <td>39</td>\n",
       "      <td>7.1</td>\n",
       "      <td>24.9</td>\n",
       "    </tr>\n",
       "    <tr>\n",
       "      <th>3</th>\n",
       "      <td>4</td>\n",
       "      <td>25.1</td>\n",
       "      <td>0.5</td>\n",
       "      <td>-5.6</td>\n",
       "      <td>8</td>\n",
       "      <td>3.3</td>\n",
       "      <td>0.5</td>\n",
       "    </tr>\n",
       "    <tr>\n",
       "      <th>4</th>\n",
       "      <td>5</td>\n",
       "      <td>112.7</td>\n",
       "      <td>701.3</td>\n",
       "      <td>-59.2</td>\n",
       "      <td>40</td>\n",
       "      <td>24.0</td>\n",
       "      <td>305.2</td>\n",
       "    </tr>\n",
       "  </tbody>\n",
       "</table>\n",
       "</div>"
      ],
      "text/plain": [
       "   id     f1     f2    f3  f4    f5     f6\n",
       "0   1  129.3  663.7 -75.3  52  29.3  298.0\n",
       "1   2  143.1  687.3 -82.6  63  30.7  306.2\n",
       "2   3   52.3   32.0 -10.8  39   7.1   24.9\n",
       "3   4   25.1    0.5  -5.6   8   3.3    0.5\n",
       "4   5  112.7  701.3 -59.2  40  24.0  305.2"
      ]
     },
     "execution_count": 18,
     "metadata": {},
     "output_type": "execute_result"
    }
   ],
   "source": [
    "test_df=pd.read_csv(\"test.csv\")\n",
    "test_df.head()"
   ]
  },
  {
   "cell_type": "code",
   "execution_count": 19,
   "metadata": {},
   "outputs": [
    {
     "name": "stdout",
     "output_type": "stream",
     "text": [
      "<class 'pandas.core.frame.DataFrame'>\n",
      "RangeIndex: 5383 entries, 0 to 5382\n",
      "Data columns (total 7 columns):\n",
      " #   Column  Non-Null Count  Dtype  \n",
      "---  ------  --------------  -----  \n",
      " 0   id      5383 non-null   int64  \n",
      " 1   f1      5383 non-null   float64\n",
      " 2   f2      5383 non-null   float64\n",
      " 3   f3      5383 non-null   float64\n",
      " 4   f4      5383 non-null   int64  \n",
      " 5   f5      5383 non-null   float64\n",
      " 6   f6      5383 non-null   float64\n",
      "dtypes: float64(5), int64(2)\n",
      "memory usage: 294.5 KB\n"
     ]
    }
   ],
   "source": [
    "test_df.info()"
   ]
  },
  {
   "cell_type": "markdown",
   "metadata": {},
   "source": [
    "### Preprocessing data"
   ]
  },
  {
   "cell_type": "code",
   "execution_count": 23,
   "metadata": {},
   "outputs": [],
   "source": [
    "scale=StandardScaler()\n",
    "\n",
    "X_train=train_df[['f1','f2','f3','f4','f5','f6']]\n",
    "y_train=train_df[['target']].values.ravel()\n",
    "\n",
    "X_test = test_df[['f1','f2','f3','f4','f5','f6']]\n",
    "\n",
    "poly=PolynomialFeatures(degree=2,interaction_only=True,include_bias=False)\n",
    "X_train_poly=poly.fit_transform(X_train)\n",
    "X_test_poly=poly.transform(X_test)"
   ]
  },
  {
   "cell_type": "code",
   "execution_count": 24,
   "metadata": {},
   "outputs": [],
   "source": [
    "X_train_scaled=scale.fit_transform(X_train_poly)\n",
    "X_test_scaled=scale.transform(X_test_poly)\n",
    "\n",
    "selector=SelectKBest(score_func=f_regression, k=8) #Selecting top 8 features\n",
    "X_train_selected=selector.fit_transform(X_train_scaled,y_train)\n",
    "X_test_selected=selector.transform(X_test_scaled)"
   ]
  },
  {
   "cell_type": "markdown",
   "metadata": {},
   "source": [
    "### Training and choosing best model"
   ]
  },
  {
   "cell_type": "code",
   "execution_count": 25,
   "metadata": {},
   "outputs": [],
   "source": [
    "cv=KFold(n_splits=5,shuffle=True,random_state=42)#to be used for GridSearchCV 'cv' parameter"
   ]
  },
  {
   "cell_type": "code",
   "execution_count": 26,
   "metadata": {},
   "outputs": [],
   "source": [
    "#Linear Regression \n",
    "\n",
    "model1 =LinearRegression()\n",
    "#print(model1.get_params())\n",
    "parameters1 = {'fit_intercept':[True,False]}\n",
    "\n",
    "linear_grid = GridSearchCV(model1 ,parameters1,scoring=\"r2\", cv=cv)\n",
    "linear_grid.fit(X_train_selected, y_train)\n",
    "# print(linear_grid.best_params_)\n",
    "\n",
    "linear_best=linear_grid.best_estimator_              \n",
    "\n",
    "y_check1=linear_best.predict(X_train_selected)"
   ]
  },
  {
   "cell_type": "code",
   "execution_count": 27,
   "metadata": {},
   "outputs": [],
   "source": [
    "#Ridge Regression\n",
    "\n",
    "model2=Ridge()\n",
    "alpha_lis1= np.logspace(-3,2,10)#10^-3 to 10^2 logarithmically spaced to get decent range of alpha\n",
    "solver_lis=['auto','svd','cholesky']\n",
    "parameters2={'alpha':alpha_lis1,'solver':solver_lis,'max_iter':[5000]}\n",
    "\n",
    "ridge_grid=GridSearchCV(model2,parameters2,scoring=\"r2\",cv=cv)\n",
    "ridge_grid.fit(X_train_selected,y_train)\n",
    "# print(ridge_grid.best_params_)\n",
    "\n",
    "ridge_best=ridge_grid.best_estimator_\n",
    "\n",
    "y_check2=ridge_best.predict(X_train_selected)"
   ]
  },
  {
   "cell_type": "code",
   "execution_count": 28,
   "metadata": {},
   "outputs": [],
   "source": [
    "#Lasso Regression\n",
    "\n",
    "model3=Lasso()\n",
    "\n",
    "#print(model3.get_params())\n",
    "\n",
    "alpha_lis2= np.logspace(-3,2,10)\n",
    "parameters3={'alpha':alpha_lis2,'max_iter':[5000]}\n",
    "\n",
    "lasso_grid=GridSearchCV(model3,parameters3,scoring=\"r2\",cv=cv)\n",
    "lasso_grid.fit(X_train_selected,y_train)\n",
    "# print(lasso_grid.best_params_)\n",
    "\n",
    "lasso_best=lasso_grid.best_estimator_\n",
    "\n",
    "y_check3=lasso_best.predict(X_train_selected)"
   ]
  },
  {
   "cell_type": "code",
   "execution_count": 29,
   "metadata": {},
   "outputs": [],
   "source": [
    "#Random Forest Regressor\n",
    "\n",
    "model4 = RandomForestRegressor()\n",
    "\n",
    "#print(model4.get_params())\n",
    "\n",
    "parameters4 = {'n_estimators':[50, 100, 200],'max_depth':[5,10,15]} \n",
    "\n",
    "rf_grid=GridSearchCV(model4,parameters4,scoring=\"r2\",cv=cv)\n",
    "rf_grid.fit(X_train_selected,y_train)\n",
    "# print(rf_grid.best_params_)\n",
    "\n",
    "rf_best=rf_grid.best_estimator_\n",
    "\n",
    "y_check4=rf_best.predict(X_train_selected)"
   ]
  },
  {
   "cell_type": "code",
   "execution_count": 30,
   "metadata": {},
   "outputs": [
    {
     "name": "stdout",
     "output_type": "stream",
     "text": [
      "Max R2:  0.8829134773928743\n",
      "random forest\n"
     ]
    }
   ],
   "source": [
    "linear_r2=r2_score(y_train, y_check1)\n",
    "ridge_r2=r2_score(y_train, y_check2)\n",
    "lasso_r2=r2_score(y_train, y_check3)\n",
    "rf_r2=r2_score(y_train, y_check4)\n",
    "\n",
    "mod_dict={'linear':linear_r2,'ridge':ridge_r2,'lasso':lasso_r2,'random forest':rf_r2}\n",
    "max_r2=max(mod_dict.values())\n",
    "candidates=[x for x in mod_dict if mod_dict[x]==max_r2]\n",
    "final_mod=candidates[0]\n",
    "\n",
    "match final_mod:\n",
    "    case 'linear': \n",
    "        y_predict=linear_best.predict(X_test_selected)\n",
    "    case 'ridge':\n",
    "        y_predict=ridge_best.predict(X_test_selected)\n",
    "    case 'lasso':\n",
    "        y_predict=lasso_best.predict(X_test_selected)\n",
    "    case 'random forest':\n",
    "        y_predict=rf_best.predict(X_test_selected)\n",
    "\n",
    "print('Max R2: ',max_r2)\n",
    "print(final_mod)"
   ]
  },
  {
   "cell_type": "markdown",
   "metadata": {},
   "source": [
    "### Save results to csv file"
   ]
  },
  {
   "cell_type": "code",
   "execution_count": 31,
   "metadata": {},
   "outputs": [
    {
     "data": {
      "text/html": [
       "<div>\n",
       "<style scoped>\n",
       "    .dataframe tbody tr th:only-of-type {\n",
       "        vertical-align: middle;\n",
       "    }\n",
       "\n",
       "    .dataframe tbody tr th {\n",
       "        vertical-align: top;\n",
       "    }\n",
       "\n",
       "    .dataframe thead th {\n",
       "        text-align: right;\n",
       "    }\n",
       "</style>\n",
       "<table border=\"1\" class=\"dataframe\">\n",
       "  <thead>\n",
       "    <tr style=\"text-align: right;\">\n",
       "      <th></th>\n",
       "      <th>id</th>\n",
       "      <th>target</th>\n",
       "    </tr>\n",
       "  </thead>\n",
       "  <tbody>\n",
       "    <tr>\n",
       "      <th>0</th>\n",
       "      <td>1</td>\n",
       "      <td>5.783883</td>\n",
       "    </tr>\n",
       "    <tr>\n",
       "      <th>1</th>\n",
       "      <td>2</td>\n",
       "      <td>3.629699</td>\n",
       "    </tr>\n",
       "    <tr>\n",
       "      <th>2</th>\n",
       "      <td>3</td>\n",
       "      <td>30.851608</td>\n",
       "    </tr>\n",
       "    <tr>\n",
       "      <th>3</th>\n",
       "      <td>4</td>\n",
       "      <td>12.042200</td>\n",
       "    </tr>\n",
       "    <tr>\n",
       "      <th>4</th>\n",
       "      <td>5</td>\n",
       "      <td>1.877615</td>\n",
       "    </tr>\n",
       "    <tr>\n",
       "      <th>...</th>\n",
       "      <td>...</td>\n",
       "      <td>...</td>\n",
       "    </tr>\n",
       "    <tr>\n",
       "      <th>5378</th>\n",
       "      <td>5379</td>\n",
       "      <td>40.877504</td>\n",
       "    </tr>\n",
       "    <tr>\n",
       "      <th>5379</th>\n",
       "      <td>5380</td>\n",
       "      <td>27.270707</td>\n",
       "    </tr>\n",
       "    <tr>\n",
       "      <th>5380</th>\n",
       "      <td>5381</td>\n",
       "      <td>33.914804</td>\n",
       "    </tr>\n",
       "    <tr>\n",
       "      <th>5381</th>\n",
       "      <td>5382</td>\n",
       "      <td>38.232634</td>\n",
       "    </tr>\n",
       "    <tr>\n",
       "      <th>5382</th>\n",
       "      <td>5383</td>\n",
       "      <td>29.821110</td>\n",
       "    </tr>\n",
       "  </tbody>\n",
       "</table>\n",
       "<p>5383 rows × 2 columns</p>\n",
       "</div>"
      ],
      "text/plain": [
       "        id     target\n",
       "0        1   5.783883\n",
       "1        2   3.629699\n",
       "2        3  30.851608\n",
       "3        4  12.042200\n",
       "4        5   1.877615\n",
       "...    ...        ...\n",
       "5378  5379  40.877504\n",
       "5379  5380  27.270707\n",
       "5380  5381  33.914804\n",
       "5381  5382  38.232634\n",
       "5382  5383  29.821110\n",
       "\n",
       "[5383 rows x 2 columns]"
      ]
     },
     "execution_count": 31,
     "metadata": {},
     "output_type": "execute_result"
    }
   ],
   "source": [
    "id_lis=[x for x in test_df['id']]\n",
    "\n",
    "target_lis=list(y_predict)\n",
    "columns={'id':id_lis,'target':target_lis}\n",
    "\n",
    "final_df=pd.DataFrame(columns)\n",
    "final_df"
   ]
  },
  {
   "cell_type": "code",
   "execution_count": 32,
   "metadata": {},
   "outputs": [],
   "source": [
    "final_df.to_csv('hopeful_predictions.csv',index=False)"
   ]
  },
  {
   "cell_type": "code",
   "execution_count": null,
   "metadata": {},
   "outputs": [],
   "source": []
  }
 ],
 "metadata": {
  "kernelspec": {
   "display_name": ".venv",
   "language": "python",
   "name": "python3"
  },
  "language_info": {
   "codemirror_mode": {
    "name": "ipython",
    "version": 3
   },
   "file_extension": ".py",
   "mimetype": "text/x-python",
   "name": "python",
   "nbconvert_exporter": "python",
   "pygments_lexer": "ipython3",
   "version": "3.11.11"
  }
 },
 "nbformat": 4,
 "nbformat_minor": 2
}
